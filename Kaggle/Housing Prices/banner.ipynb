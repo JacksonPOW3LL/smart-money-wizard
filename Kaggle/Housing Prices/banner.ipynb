{
 "cells": [
  {
   "cell_type": "code",
   "execution_count": null,
   "metadata": {},
   "outputs": [],
   "source": [
    "quickie = [\"climbing\", 'kanye west', 'running', 'pre workout', 'nuggets', ]"
   ]
  }
 ],
 "metadata": {
  "language_info": {
   "name": "python"
  },
  "orig_nbformat": 4
 },
 "nbformat": 4,
 "nbformat_minor": 2
}
